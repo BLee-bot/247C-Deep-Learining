{
 "cells": [
  {
   "cell_type": "markdown",
   "metadata": {},
   "source": [
    "# Convolutional neural networks\n",
    "\n",
    "In this notebook, we'll put together our convolutional layers to implement a 3-layer CNN.  Then, we'll ask you to implement a CNN that can achieve > 65% validation error on CIFAR-10.\n",
    "\n",
    "CS231n has built a solid API for building these modular frameworks and training them, and we will use their very well implemented framework as opposed to \"reinventing the wheel.\"  This includes using their Solver, various utility functions, their layer structure, and their implementation of fast CNN layers.  This also includes nndl.fc_net, nndl.layers, and nndl.layer_utils.  As in prior assignments, we thank Serena Yeung & Justin Johnson for permission to use code written for the CS 231n class (cs231n.stanford.edu).  \n",
    "\n",
    "\n",
    "If you have not completed the Spatial BatchNorm Notebook, please see the following description from that notebook:\n",
    "\n",
    "Please copy and paste your prior implemented code from HW #4 to start this assignment.  If you did not correctly implement the layers in HW #4, you may collaborate with a classmate to use their layer implementations from HW #4.  You may also visit TA or Prof OH to correct your implementation.  \n",
    "\n",
    "You'll want to copy and paste from HW #4:\n",
    "    - layers.py for your FC network layers, as well as batchnorm and dropout.\n",
    "    - layer_utils.py for your combined FC network layers.\n",
    "    - optim.py for your optimizers.\n",
    "\n",
    "Be sure to place these in the `nndl/` directory so they're imported correctly.  Note, as announced in class, we will not be releasing our solutions."
   ]
  },
  {
   "cell_type": "code",
   "execution_count": 1,
   "metadata": {},
   "outputs": [],
   "source": [
    "# As usual, a bit of setup\n",
    "\n",
    "import numpy as np\n",
    "import matplotlib.pyplot as plt\n",
    "from nndl.cnn import *\n",
    "from cs231n.data_utils import get_CIFAR10_data\n",
    "from cs231n.gradient_check import eval_numerical_gradient_array, eval_numerical_gradient\n",
    "from nndl.layers import *\n",
    "from nndl.conv_layers import *\n",
    "from cs231n.fast_layers import *\n",
    "from cs231n.solver import Solver\n",
    "\n",
    "%matplotlib inline\n",
    "plt.rcParams['figure.figsize'] = (10.0, 8.0) # set default size of plots\n",
    "plt.rcParams['image.interpolation'] = 'nearest'\n",
    "plt.rcParams['image.cmap'] = 'gray'\n",
    "\n",
    "# for auto-reloading external modules\n",
    "# see http://stackoverflow.com/questions/1907993/autoreload-of-modules-in-ipython\n",
    "%load_ext autoreload\n",
    "%autoreload 2\n",
    "\n",
    "def rel_error(x, y):\n",
    "  \"\"\" returns relative error \"\"\"\n",
    "  return np.max(np.abs(x - y) / (np.maximum(1e-8, np.abs(x) + np.abs(y))))"
   ]
  },
  {
   "cell_type": "code",
   "execution_count": 2,
   "metadata": {},
   "outputs": [
    {
     "name": "stdout",
     "output_type": "stream",
     "text": [
      "X_train: (49000, 3, 32, 32) \n",
      "y_train: (49000,) \n",
      "X_val: (1000, 3, 32, 32) \n",
      "y_val: (1000,) \n",
      "X_test: (1000, 3, 32, 32) \n",
      "y_test: (1000,) \n"
     ]
    }
   ],
   "source": [
    "# Load the (preprocessed) CIFAR10 data.\n",
    "\n",
    "data = get_CIFAR10_data()\n",
    "for k in data.keys():\n",
    "  print('{}: {} '.format(k, data[k].shape))"
   ]
  },
  {
   "cell_type": "markdown",
   "metadata": {},
   "source": [
    "## Three layer CNN\n",
    "\n",
    "In this notebook, you will implement a three layer CNN.  The `ThreeLayerConvNet` class is in `nndl/cnn.py`.  You'll need to modify that code for this section, including the initialization, as well as the calculation of the loss and gradients.  You should be able to use the building blocks you have either earlier coded or that we have provided.  Be sure to use the fast layers.\n",
    "\n",
    "The architecture of this CNN will be:\n",
    "\n",
    "conv - relu - 2x2 max pool - affine - relu - affine - softmax\n",
    "\n",
    "We won't use batchnorm yet.  You've also done enough of these to know how to debug; use the cells below.\n",
    "\n",
    "Note: As we are implementing several layers CNN networks. The gradient error can be expected for the `eval_numerical_gradient()` function. If your `W1 max relative error` and `W2 max relative error` are around or below 0.01, they should be acceptable. Other errors should be less than 1e-5. "
   ]
  },
  {
   "cell_type": "code",
   "execution_count": 7,
   "metadata": {},
   "outputs": [
    {
     "name": "stdout",
     "output_type": "stream",
     "text": [
      "W1 max relative error: 0.0003104360866621286\n",
      "W2 max relative error: 0.020651526854362987\n",
      "W3 max relative error: 0.001905035394668585\n",
      "b1 max relative error: 5.920227026479484e-05\n",
      "b2 max relative error: 2.22716280762559e-06\n",
      "b3 max relative error: 1.2154062333289017e-09\n"
     ]
    }
   ],
   "source": [
    "num_inputs = 2\n",
    "input_dim = (3, 16, 16)\n",
    "reg = 0.0\n",
    "num_classes = 10\n",
    "X = np.random.randn(num_inputs, *input_dim)\n",
    "y = np.random.randint(num_classes, size=num_inputs)\n",
    "\n",
    "model = ThreeLayerConvNet(num_filters=3, filter_size=3,\n",
    "                          input_dim=input_dim, hidden_dim=7,\n",
    "                          dtype=np.float64)\n",
    "loss, grads = model.loss(X, y)\n",
    "for param_name in sorted(grads):\n",
    "    f = lambda _: model.loss(X, y)[0]\n",
    "    param_grad_num = eval_numerical_gradient(f, model.params[param_name], verbose=False, h=1e-6)\n",
    "    e = rel_error(param_grad_num, grads[param_name])\n",
    "    print('{} max relative error: {}'.format(param_name, rel_error(param_grad_num, grads[param_name])))"
   ]
  },
  {
   "cell_type": "markdown",
   "metadata": {},
   "source": [
    "### Overfit small dataset\n",
    "\n",
    "To check your CNN implementation, let's overfit a small dataset."
   ]
  },
  {
   "cell_type": "code",
   "execution_count": 8,
   "metadata": {},
   "outputs": [
    {
     "name": "stdout",
     "output_type": "stream",
     "text": [
      "(Iteration 1 / 20) loss: 2.207589\n",
      "(Epoch 0 / 10) train acc: 0.220000; val_acc: 0.131000\n",
      "(Iteration 2 / 20) loss: 3.836443\n",
      "(Epoch 1 / 10) train acc: 0.210000; val_acc: 0.132000\n",
      "(Iteration 3 / 20) loss: 4.640858\n",
      "(Iteration 4 / 20) loss: 3.974332\n",
      "(Epoch 2 / 10) train acc: 0.140000; val_acc: 0.119000\n",
      "(Iteration 5 / 20) loss: 3.654917\n",
      "(Iteration 6 / 20) loss: 2.776256\n",
      "(Epoch 3 / 10) train acc: 0.110000; val_acc: 0.107000\n",
      "(Iteration 7 / 20) loss: 2.714907\n",
      "(Iteration 8 / 20) loss: 2.385206\n",
      "(Epoch 4 / 10) train acc: 0.160000; val_acc: 0.121000\n",
      "(Iteration 9 / 20) loss: 2.626105\n",
      "(Iteration 10 / 20) loss: 2.103823\n",
      "(Epoch 5 / 10) train acc: 0.350000; val_acc: 0.127000\n",
      "(Iteration 11 / 20) loss: 2.018242\n",
      "(Iteration 12 / 20) loss: 1.954259\n",
      "(Epoch 6 / 10) train acc: 0.360000; val_acc: 0.156000\n",
      "(Iteration 13 / 20) loss: 1.808749\n",
      "(Iteration 14 / 20) loss: 1.997110\n",
      "(Epoch 7 / 10) train acc: 0.480000; val_acc: 0.205000\n",
      "(Iteration 15 / 20) loss: 1.611845\n",
      "(Iteration 16 / 20) loss: 1.535259\n",
      "(Epoch 8 / 10) train acc: 0.520000; val_acc: 0.178000\n",
      "(Iteration 17 / 20) loss: 1.630212\n",
      "(Iteration 18 / 20) loss: 1.527317\n",
      "(Epoch 9 / 10) train acc: 0.490000; val_acc: 0.209000\n",
      "(Iteration 19 / 20) loss: 1.376095\n",
      "(Iteration 20 / 20) loss: 1.066428\n",
      "(Epoch 10 / 10) train acc: 0.660000; val_acc: 0.221000\n"
     ]
    }
   ],
   "source": [
    "num_train = 100\n",
    "small_data = {\n",
    "  'X_train': data['X_train'][:num_train],\n",
    "  'y_train': data['y_train'][:num_train],\n",
    "  'X_val': data['X_val'],\n",
    "  'y_val': data['y_val'],\n",
    "}\n",
    "\n",
    "model = ThreeLayerConvNet(weight_scale=1e-2)\n",
    "\n",
    "solver = Solver(model, small_data,\n",
    "                num_epochs=10, batch_size=50,\n",
    "                update_rule='adam',\n",
    "                optim_config={\n",
    "                  'learning_rate': 1e-3,\n",
    "                },\n",
    "                verbose=True, print_every=1)\n",
    "solver.train()"
   ]
  },
  {
   "cell_type": "code",
   "execution_count": 5,
   "metadata": {},
   "outputs": [
    {
     "data": {
      "image/png": "[encoded data removed]",
      "text/plain": [
       "<matplotlib.figure.Figure at 0x1d3c391b198>"
      ]
     },
     "metadata": {},
     "output_type": "display_data"
    }
   ],
   "source": [
    "plt.subplot(2, 1, 1)\n",
    "plt.plot(solver.loss_history, 'o')\n",
    "plt.xlabel('iteration')\n",
    "plt.ylabel('loss')\n",
    "\n",
    "plt.subplot(2, 1, 2)\n",
    "plt.plot(solver.train_acc_history, '-o')\n",
    "plt.plot(solver.val_acc_history, '-o')\n",
    "plt.legend(['train', 'val'], loc='upper left')\n",
    "plt.xlabel('epoch')\n",
    "plt.ylabel('accuracy')\n",
    "plt.show()"
   ]
  },
  {
   "cell_type": "markdown",
   "metadata": {},
   "source": [
    "## Train the network\n",
    "\n",
    "Now we train the 3 layer CNN on CIFAR-10 and assess its accuracy."
   ]
  },
  {
   "cell_type": "code",
   "execution_count": 9,
   "metadata": {
    "scrolled": false
   },
   "outputs": [
    {
     "name": "stdout",
     "output_type": "stream",
     "text": [
      "(Iteration 1 / 980) loss: 2.304515\n",
      "(Epoch 0 / 1) train acc: 0.093000; val_acc: 0.107000\n",
      "(Iteration 21 / 980) loss: 2.290679\n",
      "(Iteration 41 / 980) loss: 2.041415\n",
      "(Iteration 61 / 980) loss: 2.055271\n",
      "(Iteration 81 / 980) loss: 2.065180\n",
      "(Iteration 101 / 980) loss: 2.009441\n",
      "(Iteration 121 / 980) loss: 1.978225\n",
      "(Iteration 141 / 980) loss: 1.725895\n",
      "(Iteration 161 / 980) loss: 1.799282\n",
      "(Iteration 181 / 980) loss: 1.510974\n",
      "(Iteration 201 / 980) loss: 1.620178\n",
      "(Iteration 221 / 980) loss: 1.823292\n",
      "(Iteration 241 / 980) loss: 1.850093\n",
      "(Iteration 261 / 980) loss: 2.004373\n",
      "(Iteration 281 / 980) loss: 1.669784\n",
      "(Iteration 301 / 980) loss: 1.555167\n",
      "(Iteration 321 / 980) loss: 1.590781\n",
      "(Iteration 341 / 980) loss: 1.629769\n",
      "(Iteration 361 / 980) loss: 1.654301\n",
      "(Iteration 381 / 980) loss: 1.405041\n",
      "(Iteration 401 / 980) loss: 1.750551\n",
      "(Iteration 421 / 980) loss: 1.833560\n",
      "(Iteration 441 / 980) loss: 1.583613\n",
      "(Iteration 461 / 980) loss: 1.358447\n",
      "(Iteration 481 / 980) loss: 1.371413\n",
      "(Iteration 501 / 980) loss: 1.534418\n",
      "(Iteration 521 / 980) loss: 1.678226\n",
      "(Iteration 541 / 980) loss: 1.469479\n",
      "(Iteration 561 / 980) loss: 1.812952\n",
      "(Iteration 581 / 980) loss: 1.667787\n",
      "(Iteration 601 / 980) loss: 1.882084\n",
      "(Iteration 621 / 980) loss: 1.346928\n",
      "(Iteration 641 / 980) loss: 1.397255\n",
      "(Iteration 661 / 980) loss: 1.638834\n",
      "(Iteration 681 / 980) loss: 1.369388\n",
      "(Iteration 701 / 980) loss: 1.444251\n",
      "(Iteration 721 / 980) loss: 1.572540\n",
      "(Iteration 741 / 980) loss: 1.472225\n",
      "(Iteration 761 / 980) loss: 1.291472\n",
      "(Iteration 781 / 980) loss: 1.365198\n",
      "(Iteration 801 / 980) loss: 1.535566\n",
      "(Iteration 821 / 980) loss: 1.756917\n",
      "(Iteration 841 / 980) loss: 1.227572\n",
      "(Iteration 861 / 980) loss: 1.648097\n",
      "(Iteration 881 / 980) loss: 1.544826\n",
      "(Iteration 901 / 980) loss: 1.422846\n",
      "(Iteration 921 / 980) loss: 1.369637\n",
      "(Iteration 941 / 980) loss: 1.456549\n",
      "(Iteration 961 / 980) loss: 1.624375\n",
      "(Epoch 1 / 1) train acc: 0.459000; val_acc: 0.478000\n"
     ]
    }
   ],
   "source": [
    "model = ThreeLayerConvNet(weight_scale=0.001, hidden_dim=500, reg=0.001)\n",
    "\n",
    "solver = Solver(model, data,\n",
    "                num_epochs=1, batch_size=50,\n",
    "                update_rule='adam',\n",
    "                optim_config={\n",
    "                  'learning_rate': 1e-3,\n",
    "                },\n",
    "                verbose=True, print_every=20)\n",
    "solver.train()"
   ]
  },
  {
   "cell_type": "markdown",
   "metadata": {},
   "source": [
    "# Get > 65% validation accuracy on CIFAR-10.\n",
    "\n",
    "In the last part of the assignment, we'll now ask you to train a CNN to get better than 65% validation accuracy on CIFAR-10.\n",
    "\n",
    "### Things you should try:\n",
    "- Filter size: Above we used 7x7; but VGGNet and onwards showed stacks of 3x3 filters are good.  \n",
    "- Number of filters: Above we used 32 filters. Do more or fewer do better?\n",
    "- Batch normalization: Try adding spatial batch normalization after convolution layers and vanilla batch normalization after affine layers. Do your networks train faster?\n",
    "- Network architecture: Can a deeper CNN do better?  Consider these architectures:\n",
    "    - [conv-relu-pool]xN - conv - relu - [affine]xM - [softmax or SVM]\n",
    "    - [conv-relu-pool]XN - [affine]XM - [softmax or SVM]\n",
    "    - [conv-relu-conv-relu-pool]xN - [affine]xM - [softmax or SVM]\n",
    "\n",
    "### Tips for training\n",
    "For each network architecture that you try, you should tune the learning rate and regularization strength. When doing this there are a couple of important things to keep in mind:\n",
    "\n",
    "- If the parameters are working well, you should see improvement within a few hundred iterations\n",
    "- Remember the coarse-to-fine approach for hyperparameter tuning: start by testing a large range of hyperparameters for just a few training iterations to find the combinations of parameters that are working at all.\n",
    "- Once you have found some sets of parameters that seem to work, search more finely around these parameters. You may need to train for more epochs."
   ]
  },
  {
   "cell_type": "code",
   "execution_count": 8,
   "metadata": {
    "scrolled": false
   },
   "outputs": [
    {
     "name": "stdout",
     "output_type": "stream",
     "text": [
      "(Iteration 1 / 1250) loss: 2.319299\n",
      "(Epoch 0 / 5) train acc: 0.231000; val_acc: 0.251000\n",
      "(Iteration 51 / 1250) loss: 1.900901\n",
      "(Iteration 101 / 1250) loss: 1.730984\n",
      "(Iteration 151 / 1250) loss: 1.660619\n",
      "(Iteration 201 / 1250) loss: 1.589117\n",
      "(Epoch 1 / 5) train acc: 0.587000; val_acc: 0.587000\n",
      "(Iteration 251 / 1250) loss: 1.479115\n",
      "(Iteration 301 / 1250) loss: 1.396948\n",
      "(Iteration 351 / 1250) loss: 1.340034\n",
      "(Iteration 401 / 1250) loss: 1.281057\n",
      "(Iteration 451 / 1250) loss: 1.222037\n",
      "(Epoch 2 / 5) train acc: 0.737000; val_acc: 0.685000\n",
      "(Iteration 501 / 1250) loss: 1.201506\n",
      "(Iteration 551 / 1250) loss: 1.219993\n",
      "(Iteration 601 / 1250) loss: 1.172275\n",
      "(Iteration 651 / 1250) loss: 1.172249\n",
      "(Iteration 701 / 1250) loss: 1.113162\n",
      "(Epoch 3 / 5) train acc: 0.735000; val_acc: 0.712000\n",
      "(Iteration 751 / 1250) loss: 1.080073\n",
      "(Iteration 801 / 1250) loss: 1.069885\n",
      "(Iteration 851 / 1250) loss: 1.111168\n",
      "(Iteration 901 / 1250) loss: 1.024096\n",
      "(Iteration 951 / 1250) loss: 1.006770\n",
      "(Epoch 4 / 5) train acc: 0.769000; val_acc: 0.733000\n",
      "(Iteration 1001 / 1250) loss: 1.054563\n",
      "(Iteration 1051 / 1250) loss: 0.990216\n",
      "(Iteration 1101 / 1250) loss: 0.973440\n",
      "(Iteration 1151 / 1250) loss: 0.937166\n",
      "(Iteration 1201 / 1250) loss: 0.916330\n",
      "(Epoch 5 / 5) train acc: 0.813000; val_acc: 0.740000\n"
     ]
    },
    {
     "data": {
      "image/png": "[encoded data removed]",
      "text/plain": [
       "<matplotlib.figure.Figure at 0x13f05303710>"
      ]
     },
     "metadata": {},
     "output_type": "display_data"
    }
   ],
   "source": [
    "# ================================================================ #\n",
    "# YOUR CODE HERE:\n",
    "#   Implement a CNN to achieve greater than 65% validation accuracy\n",
    "#   on CIFAR-10.\n",
    "# ================================================================ #\n",
    "\n",
    "model = ConvNet(weight_scale=0.001,\n",
    "                filter_size=3,\n",
    "                num_filters=8, \n",
    "                hidden_dim=100, \n",
    "                reg=0.25, \n",
    "                use_batchnorm=True)\n",
    "\n",
    "# Designed 6 Layer networks ConvNet\n",
    "# 3x3 filter, 2x2 max pool\n",
    "# Applied batchnorm after every layers\n",
    "# Network archicecture = [conv-relu-norm]-[conv-relu-pool-norm]x3-affine-relu-norm-affine-softmax\n",
    "# 1st conv Layer used 8 filters\n",
    "# 2nd conv Layer used 16 filters\n",
    "# 3rd conv Layer used 32 filters\n",
    "# 4th conv Layer used 64 filters\n",
    "\n",
    "solver = Solver(model, \n",
    "                data,\n",
    "                num_epochs=5, \n",
    "                batch_size=196,\n",
    "                update_rule='adam',\n",
    "                lr_decay=0.9,\n",
    "                optim_config={'learning_rate': 1e-4},\n",
    "                verbose=True, \n",
    "                print_every=50)\n",
    "solver.train()\n",
    "\n",
    "plt.subplot(2, 1, 1)\n",
    "plt.plot(solver.loss_history, 'o')\n",
    "plt.xlabel('iteration')\n",
    "plt.ylabel('loss')\n",
    "\n",
    "plt.subplot(2, 1, 2)\n",
    "plt.plot(solver.train_acc_history, '-o')\n",
    "plt.plot(solver.val_acc_history, '-o')\n",
    "plt.legend(['train', 'val'], loc='upper left')\n",
    "plt.xlabel('epoch')\n",
    "plt.ylabel('accuracy')\n",
    "plt.show()\n",
    "\n",
    "# ================================================================ #\n",
    "# END YOUR CODE HERE\n",
    "# ================================================================ #\n"
   ]
  },
  {
   "cell_type": "code",
   "execution_count": null,
   "metadata": {},
   "outputs": [],
   "source": []
  }
 ],
 "metadata": {
  "kernelspec": {
   "display_name": "Python 3",
   "language": "python",
   "name": "python3"
  },
  "language_info": {
   "codemirror_mode": {
    "name": "ipython",
    "version": 3
   },
   "file_extension": ".py",
   "mimetype": "text/x-python",
   "name": "python",
   "nbconvert_exporter": "python",
   "pygments_lexer": "ipython3",
   "version": "3.6.8"
  },
  "varInspector": {
   "cols": {
    "lenName": 16,
    "lenType": 16,
    "lenVar": 40
   },
   "kernels_config": {
    "python": {
     "delete_cmd_postfix": "",
     "delete_cmd_prefix": "del ",
     "library": "var_list.py",
     "varRefreshCmd": "print(var_dic_list())"
    },
    "r": {
     "delete_cmd_postfix": ") ",
     "delete_cmd_prefix": "rm(",
     "library": "var_list.r",
     "varRefreshCmd": "cat(var_dic_list()) "
    }
   },
   "types_to_exclude": [
    "module",
    "function",
    "builtin_function_or_method",
    "instance",
    "_Feature"
   ],
   "window_display": true
  }
 },
 "nbformat": 4,
 "nbformat_minor": 2
}
